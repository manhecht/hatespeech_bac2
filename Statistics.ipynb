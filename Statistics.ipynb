{
 "cells": [
  {
   "cell_type": "markdown",
   "id": "7a1bbd37",
   "metadata": {},
   "source": [
    "#### This script can be used to calculate statistics and characteristics of #hashtags and words used in the dataset built for my BAC2"
   ]
  },
  {
   "cell_type": "code",
   "execution_count": 1,
   "id": "00e68d9f",
   "metadata": {},
   "outputs": [
    {
     "name": "stderr",
     "output_type": "stream",
     "text": [
      "[nltk_data] Downloading package stopwords to /home/mhecht/nltk_data...\n",
      "[nltk_data]   Package stopwords is already up-to-date!\n",
      "[nltk_data] Downloading package punkt to /home/mhecht/nltk_data...\n",
      "[nltk_data]   Package punkt is already up-to-date!\n"
     ]
    }
   ],
   "source": [
    "import numpy as np\n",
    "import matplotlib.pyplot as plt\n",
    "import pandas as pd\n",
    "#import emoji\n",
    "import re\n",
    "from collections import Counter\n",
    "import itertools\n",
    "import nltk\n",
    "from nltk.corpus import stopwords\n",
    "nltk.download('stopwords')\n",
    "nltk.download('punkt')\n",
    "from nltk.tokenize import word_tokenize\n",
    "import string\n",
    "from wordcloud import WordCloud"
   ]
  },
  {
   "cell_type": "markdown",
   "id": "426cfd99",
   "metadata": {},
   "source": [
    "#### Function definitions"
   ]
  },
  {
   "cell_type": "code",
   "execution_count": 2,
   "id": "d40ceecc",
   "metadata": {},
   "outputs": [],
   "source": [
    "def extract_hashtags(text):\n",
    "    hashtag_list = []\n",
    "    for tweets in text:\n",
    "        for word in tweets.split():\n",
    "            if word[0] == '#':\n",
    "                if len(word[1:].split('#')) > 1:\n",
    "                    for w in word[1:].split('#'): \n",
    "                        if w != '#':\n",
    "                            hashtag_list.append(re.sub(r'(https|http)?:\\/\\/(\\w|\\.|\\/|\\?|\\=|\\&|\\%)*\\b', '', w).strip('.,\"').lower()) \n",
    "                else:\n",
    "                    hashtag_list.append(re.sub(r'(https|http)?:\\/\\/(\\w|\\.|\\/|\\?|\\=|\\&|\\%)*\\b', '', word[1:]).strip('.,\"').lower())#word[1:])\n",
    "    return hashtag_list"
   ]
  },
  {
   "cell_type": "code",
   "execution_count": 3,
   "id": "5567195c",
   "metadata": {},
   "outputs": [],
   "source": [
    "def extract_words(text):\n",
    "    word_list = []\n",
    "    for tweets in text:\n",
    "        # removing urls\n",
    "        tweets = re.sub(r'(https|http)?:\\/\\/(\\w|\\.|\\/|\\?|\\=|\\&|\\%)*\\b', '', tweets.lower())\n",
    "        # manually remove following punctuation\n",
    "        tweets = re.sub(r'’|”|‘|“', ' ',tweets)\n",
    "        # removing punctiation\n",
    "        tweets = tweets.translate(str.maketrans('','',string.punctuation))        \n",
    "        # tokenize\n",
    "        text_tokens = word_tokenize(tweets)\n",
    "        tokens_without_sw = [word for word in text_tokens if not word in stopwords.words('german')]\n",
    "        for word in tokens_without_sw:\n",
    "            # adding the word to the list\n",
    "            word_list.append(word)\n",
    "    return word_list"
   ]
  },
  {
   "cell_type": "code",
   "execution_count": 4,
   "id": "f91dd5ad",
   "metadata": {},
   "outputs": [],
   "source": [
    "# get_frequencies: used to determine frequencies of words in the corpus occuring in the dataset \n",
    "def get_frequencies(corpus, words):\n",
    "    freq_dict = {}\n",
    "    for word in corpus:\n",
    "        freq_dict[word] = words.get(word, 0)\n",
    "    return freq_dict        "
   ]
  },
  {
   "cell_type": "code",
   "execution_count": 5,
   "id": "c8fa394b",
   "metadata": {},
   "outputs": [],
   "source": [
    "# sort_dict: sort dictionary according to the values\n",
    "def sort_dict(dictionary, reverse=False):\n",
    "    sorted_tuples = sorted(dictionary.items(), key=lambda item: item[1], reverse=reverse)\n",
    "    sorted_dict = {k: v for k, v in sorted_tuples}\n",
    "    return sorted_dict"
   ]
  },
  {
   "cell_type": "markdown",
   "id": "ddab0230",
   "metadata": {},
   "source": [
    "#### Data import"
   ]
  },
  {
   "cell_type": "code",
   "execution_count": 12,
   "id": "5383d17a",
   "metadata": {},
   "outputs": [
    {
     "name": "stdout",
     "output_type": "stream",
     "text": [
      "/home/workdrive/mhecht/hatespeech\n"
     ]
    },
    {
     "data": {
      "text/html": [
       "<div>\n",
       "<style scoped>\n",
       "    .dataframe tbody tr th:only-of-type {\n",
       "        vertical-align: middle;\n",
       "    }\n",
       "\n",
       "    .dataframe tbody tr th {\n",
       "        vertical-align: top;\n",
       "    }\n",
       "\n",
       "    .dataframe thead th {\n",
       "        text-align: right;\n",
       "    }\n",
       "</style>\n",
       "<table border=\"1\" class=\"dataframe\">\n",
       "  <thead>\n",
       "    <tr style=\"text-align: right;\">\n",
       "      <th></th>\n",
       "      <th>Unnamed: 0</th>\n",
       "      <th>text</th>\n",
       "      <th>hate</th>\n",
       "      <th>dataset</th>\n",
       "    </tr>\n",
       "  </thead>\n",
       "  <tbody>\n",
       "    <tr>\n",
       "      <th>0</th>\n",
       "      <td>0</td>\n",
       "      <td>Meine Mutter hat mir erzählt, dass mein Vater ...</td>\n",
       "      <td>0</td>\n",
       "      <td>germeval2018</td>\n",
       "    </tr>\n",
       "    <tr>\n",
       "      <th>1</th>\n",
       "      <td>1</td>\n",
       "      <td>@Tom174_ @davidbest95 Meine Reaktion; |LBR| Ni...</td>\n",
       "      <td>0</td>\n",
       "      <td>germeval2018</td>\n",
       "    </tr>\n",
       "    <tr>\n",
       "      <th>2</th>\n",
       "      <td>2</td>\n",
       "      <td>#Merkel rollt dem Emir von #Katar, der islamis...</td>\n",
       "      <td>0</td>\n",
       "      <td>germeval2018</td>\n",
       "    </tr>\n",
       "    <tr>\n",
       "      <th>3</th>\n",
       "      <td>3</td>\n",
       "      <td>„Merle ist kein junges unschuldiges Mädchen“ K...</td>\n",
       "      <td>0</td>\n",
       "      <td>germeval2018</td>\n",
       "    </tr>\n",
       "    <tr>\n",
       "      <th>4</th>\n",
       "      <td>4</td>\n",
       "      <td>@umweltundaktiv Asylantenflut bringt eben nur ...</td>\n",
       "      <td>1</td>\n",
       "      <td>germeval2018</td>\n",
       "    </tr>\n",
       "  </tbody>\n",
       "</table>\n",
       "</div>"
      ],
      "text/plain": [
       "   Unnamed: 0                                               text  hate  \\\n",
       "0           0  Meine Mutter hat mir erzählt, dass mein Vater ...     0   \n",
       "1           1  @Tom174_ @davidbest95 Meine Reaktion; |LBR| Ni...     0   \n",
       "2           2  #Merkel rollt dem Emir von #Katar, der islamis...     0   \n",
       "3           3  „Merle ist kein junges unschuldiges Mädchen“ K...     0   \n",
       "4           4  @umweltundaktiv Asylantenflut bringt eben nur ...     1   \n",
       "\n",
       "        dataset  \n",
       "0  germeval2018  \n",
       "1  germeval2018  \n",
       "2  germeval2018  \n",
       "3  germeval2018  \n",
       "4  germeval2018  "
      ]
     },
     "execution_count": 12,
     "metadata": {},
     "output_type": "execute_result"
    }
   ],
   "source": [
    "import os\n",
    "print(os.getcwd())\n",
    "data_path = 'final_dataset.csv'\n",
    "data = pd.read_csv(data_path, sep=',', encoding='utf-8')\n",
    "data.head()"
   ]
  },
  {
   "cell_type": "markdown",
   "id": "bf2b79d6",
   "metadata": {},
   "source": [
    "#### Get Sum of each class"
   ]
  },
  {
   "cell_type": "code",
   "execution_count": 13,
   "id": "42aa9367",
   "metadata": {},
   "outputs": [
    {
     "name": "stdout",
     "output_type": "stream",
     "text": [
      "17282\n",
      "27849\n"
     ]
    }
   ],
   "source": [
    "print((data.hate == 0).sum())\n",
    "print((data.hate == 1).sum())\n"
   ]
  },
  {
   "cell_type": "markdown",
   "id": "9044469a",
   "metadata": {},
   "source": [
    "#### Create Wordcloud"
   ]
  },
  {
   "cell_type": "code",
   "execution_count": 10,
   "id": "788d5a21",
   "metadata": {
    "scrolled": true
   },
   "outputs": [
    {
     "ename": "SyntaxError",
     "evalue": "invalid syntax (1970379109.py, line 1)",
     "output_type": "error",
     "traceback": [
      "\u001b[0;36m  File \u001b[0;32m\"/tmp/ipykernel_1279666/1970379109.py\"\u001b[0;36m, line \u001b[0;32m1\u001b[0m\n\u001b[0;31m    text = data['hate' == 1])\u001b[0m\n\u001b[0m                            ^\u001b[0m\n\u001b[0;31mSyntaxError\u001b[0m\u001b[0;31m:\u001b[0m invalid syntax\n"
     ]
    }
   ],
   "source": [
    "text = data['hate' == 1])\n",
    "# Create and generate a word cloud image:\n",
    "wordcloud = WordCloud(max_font_size=50, max_words=10000, background_color=\"white\").generate(text)\n",
    "\n",
    "# Display the generated image:\n",
    "plt.imshow(wordcloud, interpolation='bilinear')\n",
    "plt.axis(\"off\")\n",
    "plt.show()"
   ]
  },
  {
   "cell_type": "markdown",
   "id": "64526a66",
   "metadata": {},
   "source": [
    "#### Loop over all tweets to generate dictionaries containing hashtags and all words (excluding stopwords and urls)"
   ]
  },
  {
   "cell_type": "code",
   "execution_count": 11,
   "id": "8553c50b",
   "metadata": {},
   "outputs": [
    {
     "data": {
      "text/html": [
       "<div>\n",
       "<style scoped>\n",
       "    .dataframe tbody tr th:only-of-type {\n",
       "        vertical-align: middle;\n",
       "    }\n",
       "\n",
       "    .dataframe tbody tr th {\n",
       "        vertical-align: top;\n",
       "    }\n",
       "\n",
       "    .dataframe thead th {\n",
       "        text-align: right;\n",
       "    }\n",
       "</style>\n",
       "<table border=\"1\" class=\"dataframe\">\n",
       "  <thead>\n",
       "    <tr style=\"text-align: right;\">\n",
       "      <th></th>\n",
       "      <th>0</th>\n",
       "    </tr>\n",
       "  </thead>\n",
       "  <tbody>\n",
       "    <tr>\n",
       "      <th>afd</th>\n",
       "      <td>874</td>\n",
       "    </tr>\n",
       "    <tr>\n",
       "      <th>merkel</th>\n",
       "      <td>552</td>\n",
       "    </tr>\n",
       "    <tr>\n",
       "      <th>spd</th>\n",
       "      <td>504</td>\n",
       "    </tr>\n",
       "    <tr>\n",
       "      <th>cdu</th>\n",
       "      <td>320</td>\n",
       "    </tr>\n",
       "    <tr>\n",
       "      <th>deutschland</th>\n",
       "      <td>290</td>\n",
       "    </tr>\n",
       "    <tr>\n",
       "      <th>berlin</th>\n",
       "      <td>204</td>\n",
       "    </tr>\n",
       "    <tr>\n",
       "      <th>asylanten</th>\n",
       "      <td>163</td>\n",
       "    </tr>\n",
       "    <tr>\n",
       "      <th>bundestag</th>\n",
       "      <td>158</td>\n",
       "    </tr>\n",
       "    <tr>\n",
       "      <th>flüchtlinge</th>\n",
       "      <td>143</td>\n",
       "    </tr>\n",
       "    <tr>\n",
       "      <th>fcsp</th>\n",
       "      <td>132</td>\n",
       "    </tr>\n",
       "  </tbody>\n",
       "</table>\n",
       "</div>"
      ],
      "text/plain": [
       "               0\n",
       "afd          874\n",
       "merkel       552\n",
       "spd          504\n",
       "cdu          320\n",
       "deutschland  290\n",
       "berlin       204\n",
       "asylanten    163\n",
       "bundestag    158\n",
       "flüchtlinge  143\n",
       "fcsp         132"
      ]
     },
     "execution_count": 11,
     "metadata": {},
     "output_type": "execute_result"
    }
   ],
   "source": [
    "all_hashtags = []\n",
    "tasks =[]\n",
    "all_words = []\n",
    "\n",
    "\n",
    "#print(label)\n",
    "text = data['text']\n",
    "hashtags = extract_hashtags(text)\n",
    "\n",
    "#print(hashtags)\n",
    "wordcloud = WordCloud(max_font_size=50, max_words=10000, background_color=\"white\").generate(str(hashtags))\n",
    "#plt.imshow(wordcloud, interpolation='bilinear')\n",
    "#plt.axis(\"off\")\n",
    "#plt.show()\n",
    "hashtags_dict = {}\n",
    "for c in range(len(hashtags)):\n",
    "    hashtags_dict[hashtags[c]] = hashtags.count(hashtags[c])\n",
    "\n",
    "sorted_hashtags_dict = sort_dict(hashtags_dict, reverse=True)\n",
    "\n",
    "df = pd.DataFrame()\n",
    "df = df.from_dict(sorted_hashtags_dict,orient='index')\n",
    "df[:10]\n",
    "#print(\"\\n\")\n",
    "\n",
    "#all words\n",
    "# words = extract_words(text)\n",
    "# words_dict = {}\n",
    "# for c in range(len(words)):\n",
    "#     words_dict[words[c]] = words.count(words[c])\n",
    "\n",
    "# sorted_words_dict = sort_dict(words_dict, reverse=True)\n",
    "\n",
    "# #all_hashtags.append(sorted_hashtags_dict)\n",
    "# tasks.append(label)\n",
    "# all_words.append(sorted_words_dict)\n"
   ]
  },
  {
   "cell_type": "markdown",
   "id": "e0e3ff79",
   "metadata": {},
   "source": [
    "## Hashtags\n",
    "#### Plots: all hashtags in tweets"
   ]
  },
  {
   "cell_type": "code",
   "execution_count": null,
   "id": "5d95bb7b",
   "metadata": {},
   "outputs": [],
   "source": [
    "all_hashtags"
   ]
  },
  {
   "cell_type": "code",
   "execution_count": null,
   "id": "c2e39627",
   "metadata": {},
   "outputs": [],
   "source": [
    "n = 40\n",
    "for x in range(len(all_hashtags)):\n",
    "    mylist = [key for key, val in dict(itertools.islice(all_hashtags[x].items(), n)).items() for _ in range(val)]\n",
    "    plt.hist(mylist, np.arange(n+1)-0.5)\n",
    "    plt.xticks(rotation=90)\n",
    "    plt.title(\"language: {}; class: {}\".format(tasks[x][0],tasks[x][1]))\n",
    "    plt.show()\n"
   ]
  },
  {
   "cell_type": "markdown",
   "id": "2d8f59b0",
   "metadata": {},
   "source": [
    "## All Words\n",
    "#### Plots: all words in tweets"
   ]
  },
  {
   "cell_type": "code",
   "execution_count": null,
   "id": "9256de1b",
   "metadata": {},
   "outputs": [],
   "source": [
    "n = 40\n",
    "for x in range(len(all_words)):\n",
    "    mylist = [key for key, val in dict(itertools.islice(all_words[x].items(), 0, n)).items() for _ in range(val)]\n",
    "    plt.hist(mylist, np.arange(n+1)-0.5)\n",
    "    plt.xticks(rotation=90)\n",
    "    plt.title(\"language: {}; class: {}\".format(tasks[x][0],tasks[x][1]))\n",
    "    plt.show()\n"
   ]
  }
 ],
 "metadata": {
  "kernelspec": {
   "display_name": "Python 3 (ipykernel)",
   "language": "python",
   "name": "python3"
  },
  "language_info": {
   "codemirror_mode": {
    "name": "ipython",
    "version": 3
   },
   "file_extension": ".py",
   "mimetype": "text/x-python",
   "name": "python",
   "nbconvert_exporter": "python",
   "pygments_lexer": "ipython3",
   "version": "3.7.10"
  }
 },
 "nbformat": 4,
 "nbformat_minor": 5
}
