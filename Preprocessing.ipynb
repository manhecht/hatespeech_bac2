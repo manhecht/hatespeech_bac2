{
 "cells": [
  {
   "cell_type": "code",
   "execution_count": 1,
   "id": "integrated-rates",
   "metadata": {},
   "outputs": [],
   "source": [
    "import pandas as pd\n",
    "import numpy as np\n",
    "import re\n",
    "import string\n",
    "import ftfy\n",
    "import sklearn\n",
    "from sklearn.model_selection import train_test_split"
   ]
  },
  {
   "cell_type": "code",
   "execution_count": 2,
   "id": "powered-infrastructure",
   "metadata": {},
   "outputs": [
    {
     "data": {
      "text/html": [
       "<div>\n",
       "<style scoped>\n",
       "    .dataframe tbody tr th:only-of-type {\n",
       "        vertical-align: middle;\n",
       "    }\n",
       "\n",
       "    .dataframe tbody tr th {\n",
       "        vertical-align: top;\n",
       "    }\n",
       "\n",
       "    .dataframe thead th {\n",
       "        text-align: right;\n",
       "    }\n",
       "</style>\n",
       "<table border=\"1\" class=\"dataframe\">\n",
       "  <thead>\n",
       "    <tr style=\"text-align: right;\">\n",
       "      <th></th>\n",
       "      <th>Unnamed: 0</th>\n",
       "      <th>text</th>\n",
       "      <th>hate</th>\n",
       "      <th>dataset</th>\n",
       "    </tr>\n",
       "  </thead>\n",
       "  <tbody>\n",
       "    <tr>\n",
       "      <th>0</th>\n",
       "      <td>0</td>\n",
       "      <td>Meine Mutter hat mir erzählt, dass mein Vater ...</td>\n",
       "      <td>0</td>\n",
       "      <td>germeval2018</td>\n",
       "    </tr>\n",
       "    <tr>\n",
       "      <th>1</th>\n",
       "      <td>1</td>\n",
       "      <td>@Tom174_ @davidbest95 Meine Reaktion; |LBR| Ni...</td>\n",
       "      <td>0</td>\n",
       "      <td>germeval2018</td>\n",
       "    </tr>\n",
       "    <tr>\n",
       "      <th>2</th>\n",
       "      <td>2</td>\n",
       "      <td>#Merkel rollt dem Emir von #Katar, der islamis...</td>\n",
       "      <td>0</td>\n",
       "      <td>germeval2018</td>\n",
       "    </tr>\n",
       "    <tr>\n",
       "      <th>3</th>\n",
       "      <td>3</td>\n",
       "      <td>„Merle ist kein junges unschuldiges Mädchen“ K...</td>\n",
       "      <td>0</td>\n",
       "      <td>germeval2018</td>\n",
       "    </tr>\n",
       "    <tr>\n",
       "      <th>4</th>\n",
       "      <td>4</td>\n",
       "      <td>@umweltundaktiv Asylantenflut bringt eben nur ...</td>\n",
       "      <td>1</td>\n",
       "      <td>germeval2018</td>\n",
       "    </tr>\n",
       "  </tbody>\n",
       "</table>\n",
       "</div>"
      ],
      "text/plain": [
       "   Unnamed: 0                                               text  hate  \\\n",
       "0           0  Meine Mutter hat mir erzählt, dass mein Vater ...     0   \n",
       "1           1  @Tom174_ @davidbest95 Meine Reaktion; |LBR| Ni...     0   \n",
       "2           2  #Merkel rollt dem Emir von #Katar, der islamis...     0   \n",
       "3           3  „Merle ist kein junges unschuldiges Mädchen“ K...     0   \n",
       "4           4  @umweltundaktiv Asylantenflut bringt eben nur ...     1   \n",
       "\n",
       "        dataset  \n",
       "0  germeval2018  \n",
       "1  germeval2018  \n",
       "2  germeval2018  \n",
       "3  germeval2018  \n",
       "4  germeval2018  "
      ]
     },
     "execution_count": 2,
     "metadata": {},
     "output_type": "execute_result"
    }
   ],
   "source": [
    "path = (\"final_dataset.csv\")\n",
    "df = pd.read_csv(path, sep=\",\")\n",
    "df.head()"
   ]
  },
  {
   "cell_type": "code",
   "execution_count": 22,
   "id": "measured-manufacturer",
   "metadata": {},
   "outputs": [],
   "source": [
    "# Comment by Mina: with punctuation was better with EXIST2021 data!\n",
    "def remove_punctuation(text):\n",
    "    text = \"\".join([c for c in text if c not in string.punctuation])\n",
    "    return text\n",
    "\n",
    "\n",
    "def remove_hashtags(text):\n",
    "    text = re.sub(r\"#(\\w+)\", ' ', text)\n",
    "    return text\n",
    "\n",
    "# Either remove all mentions or replace them with @USER and the function \"replace_mentions\"\n",
    "def remove_mentions(text):\n",
    "    text = re.sub(r\"@(\\w+)\", ' ', text)\n",
    "    return text\n",
    "\n",
    "def replace_mentions(text):\n",
    "    text = re.sub(r\"@(\\w+)\", '@USER .', text)\n",
    "    return text\n",
    "\n",
    "def remove_links(text):\n",
    "    text = re.sub(r\"http\\S+\", \"\", text)\n",
    "    return text\n",
    "\n",
    "def remove_nonASCII(text):\n",
    "    text = re.sub(r\"[^\\x00-\\x7F]+\", \" \", text)\n",
    "    return text\n",
    "\n",
    "def remove_whitespace(text):\n",
    "    text = text.strip()\n",
    "    return text"
   ]
  },
  {
   "cell_type": "markdown",
   "id": "infrared-occurrence",
   "metadata": {},
   "source": [
    "## Version 1: removing hashtags, mentions, and links but leaving the rest of the text as it is (both languages)"
   ]
  },
  {
   "cell_type": "code",
   "execution_count": 4,
   "id": "catholic-bumper",
   "metadata": {
    "scrolled": true
   },
   "outputs": [],
   "source": [
    "df[\"text\"] = df.text.apply(remove_hashtags)\n",
    "df[\"text\"] = df.text.apply(remove_mentions)\n",
    "df[\"text\"] = df.text.apply(remove_links)\n",
    "df[\"text\"] = df.text.apply(remove_whitespace)"
   ]
  },
  {
   "cell_type": "markdown",
   "id": "different-burden",
   "metadata": {},
   "source": [
    "## Version 2: removing hashtags and links and changing the usernames to @USER (both languages)"
   ]
  },
  {
   "cell_type": "code",
   "execution_count": 13,
   "id": "complicated-salvation",
   "metadata": {},
   "outputs": [],
   "source": [
    "df[\"text\"] = df.text.apply(remove_hashtags)\n",
    "df[\"text\"] = df.text.apply(replace_mentions)\n",
    "df[\"text\"] = df.text.apply(remove_links)\n",
    "df[\"text\"] = df.text.apply(remove_whitespace)"
   ]
  },
  {
   "cell_type": "markdown",
   "id": "ae213da1",
   "metadata": {},
   "source": [
    "## Version 3: leaving hashtags, links and usernames but removing non-ASCII symbols (i.e. \"#\") (both languages)"
   ]
  },
  {
   "cell_type": "code",
   "execution_count": 18,
   "id": "7c4ba532",
   "metadata": {},
   "outputs": [],
   "source": [
    "df[\"text\"] = df.text.apply(remove_nonASCII)\n",
    "df[\"text\"] = df.text.apply(remove_whitespace)"
   ]
  },
  {
   "cell_type": "markdown",
   "id": "occupational-belarus",
   "metadata": {},
   "source": [
    "## Train/validation split, stratified the classes by task 1 (can easily changed for task 2 as well)"
   ]
  },
  {
   "cell_type": "code",
   "execution_count": 4,
   "id": "premium-shareware",
   "metadata": {},
   "outputs": [],
   "source": [
    "# df = both languages\n",
    "train_inputs, validation_inputs = train_test_split(df, random_state=42, test_size=0.2, stratify=df[\"hate\"])"
   ]
  },
  {
   "cell_type": "code",
   "execution_count": 5,
   "id": "smooth-darwin",
   "metadata": {},
   "outputs": [],
   "source": [
    "train_inputs.to_csv(\"train.tsv\", sep=\"\\t\")\n",
    "validation_inputs.to_csv(\"test.tsv\", sep=\"\\t\")"
   ]
  },
  {
   "cell_type": "code",
   "execution_count": 16,
   "id": "3d87981d",
   "metadata": {},
   "outputs": [],
   "source": []
  },
  {
   "cell_type": "code",
   "execution_count": null,
   "id": "266ffde1",
   "metadata": {},
   "outputs": [],
   "source": []
  }
 ],
 "metadata": {
  "kernelspec": {
   "display_name": "Python 3 (ipykernel)",
   "language": "python",
   "name": "python3"
  },
  "language_info": {
   "codemirror_mode": {
    "name": "ipython",
    "version": 3
   },
   "file_extension": ".py",
   "mimetype": "text/x-python",
   "name": "python",
   "nbconvert_exporter": "python",
   "pygments_lexer": "ipython3",
   "version": "3.7.10"
  }
 },
 "nbformat": 4,
 "nbformat_minor": 5
}
